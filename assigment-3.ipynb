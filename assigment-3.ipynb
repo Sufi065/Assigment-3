{
 "cells": [
  {
   "attachments": {},
   "cell_type": "markdown",
   "metadata": {
    "notebookRunGroups": {
     "groupValue": "1"
    }
   },
   "source": [
    "1.Which keyword is used to creat a function?Create a function to return a list of odd number in the range of 1 t0 25."
   ]
  },
  {
   "attachments": {},
   "cell_type": "markdown",
   "metadata": {},
   "source": [
    "ans:- \"def\" keyword is used to create, a function or define."
   ]
  },
  {
   "cell_type": "code",
   "execution_count": 128,
   "metadata": {},
   "outputs": [
    {
     "name": "stdout",
     "output_type": "stream",
     "text": [
      "[1, 3, 5, 7, 9, 11, 13, 15, 17, 19]\n"
     ]
    }
   ],
   "source": [
    "def odd():\n",
    "    n=[]\n",
    "    for i in range(1,21):\n",
    "        if i % 2==1:\n",
    "            n.append(i)\n",
    "    return n\n",
    "n1=odd()\n",
    "print(n1)\n"
   ]
  },
  {
   "attachments": {},
   "cell_type": "markdown",
   "metadata": {},
   "source": [
    "2.Why *arg and **kwarg is used in some functions?creat a function each for *arg and **kwargs to demonstrate threir use.\n"
   ]
  },
  {
   "attachments": {},
   "cell_type": "markdown",
   "metadata": {},
   "source": [
    "ans:-The '*arg' parameter allows a function to accept a variable number of positional\n",
    "arguments.it collect all the additional positional argument passed to the function into a tuple. "
   ]
  },
  {
   "cell_type": "code",
   "execution_count": 129,
   "metadata": {},
   "outputs": [
    {
     "name": "stdout",
     "output_type": "stream",
     "text": [
      "1\n",
      "2\n",
      "3\n",
      "4\n"
     ]
    }
   ],
   "source": [
    "def a(*arg):\n",
    "    for i in arg:\n",
    "        print(i)\n",
    "a(1,2,3,4)        "
   ]
  },
  {
   "attachments": {},
   "cell_type": "markdown",
   "metadata": {},
   "source": [
    "**kwarg:-The '**kearg' parameter allows a function to accept a variable number of keyword argument.the arguments specified with a keyword.and it convert into 'dictionary'."
   ]
  },
  {
   "cell_type": "code",
   "execution_count": 136,
   "metadata": {},
   "outputs": [
    {
     "name": "stdout",
     "output_type": "stream",
     "text": [
      "name sufi\n",
      "age 19\n",
      "city harihar\n"
     ]
    }
   ],
   "source": [
    "def b(**kwarg):\n",
    "    for key,value in kwarg.items():\n",
    "        print(key,value)\n",
    "b(name='sufi',age=19,city='harihar')       "
   ]
  },
  {
   "attachments": {},
   "cell_type": "markdown",
   "metadata": {},
   "source": [
    "3.What is an iterator in python?Name the method used to initialise the iterator object and method used for iteration.Use these methods to print the first elements of given list[2,4,6,8,10,14,16,18,20]."
   ]
  },
  {
   "attachments": {},
   "cell_type": "markdown",
   "metadata": {
    "notebookRunGroups": {
     "groupValue": "1"
    }
   },
   "source": [
    "ans:- iterator is a object that implements the iterator protocol in python.it is used traverse or iterate over a sequence of values,allowing you to access each element one at a time without needing to know the underlying stucture of the sequence."
   ]
  },
  {
   "attachments": {},
   "cell_type": "markdown",
   "metadata": {},
   "source": [
    "To create an iterator, an object must implement two methods:\n",
    "1.iter()\n",
    "2.next()\n",
    "   "
   ]
  },
  {
   "attachments": {},
   "cell_type": "markdown",
   "metadata": {},
   "source": [
    "1.iter():\n",
    "Thise method return the iterator object itself.it is used to initialized or reset the iterator."
   ]
  },
  {
   "attachments": {},
   "cell_type": "markdown",
   "metadata": {
    "notebookRunGroups": {
     "groupValue": "1"
    }
   },
   "source": [
    "2.next():\n",
    "This method returns the next value frome the iterator.if there are no more elements,it raises the 'StopIteration' exception."
   ]
  },
  {
   "cell_type": "code",
   "execution_count": 1,
   "metadata": {},
   "outputs": [
    {
     "name": "stdout",
     "output_type": "stream",
     "text": [
      "2\n",
      "4\n",
      "6\n",
      "8\n",
      "10\n"
     ]
    }
   ],
   "source": [
    "l=[2,4,6,8,10,12,14,16,18,20]\n",
    "iterator=iter(l)\n",
    "for _ in range(5):\n",
    "    a=next(iterator)\n",
    "    print(a)\n"
   ]
  },
  {
   "attachments": {},
   "cell_type": "markdown",
   "metadata": {
    "notebookRunGroups": {
     "groupValue": "1"
    }
   },
   "source": [
    "4.What is a generator function in python?why yield keyword is used?give example of a generator function."
   ]
  },
  {
   "attachments": {},
   "cell_type": "markdown",
   "metadata": {},
   "source": [
    "ans:- A genertor function is special type of function in python that retuen an iterator object,which can be iterated over to produce a sequence of value.\"yield\"keyword instead of \"return\" to provide a value and suspend its state temporatily, allowing the caller to retrive the value and then continue execution frome where it leaf off.\n",
    " "
   ]
  },
  {
   "cell_type": "code",
   "execution_count": 2,
   "metadata": {},
   "outputs": [],
   "source": [
    "def test_fib(n): ##n ka matlav kiyh number of term kerne hain\n",
    "    a,b=0,1\n",
    "    for i in range(n):\n",
    "        yield a##used insted of retuen use in data nikel nain main\n",
    "        a,b=b,a+b ##a=1,b=1 ,a=1,b=2\n",
    "\n"
   ]
  },
  {
   "cell_type": "code",
   "execution_count": 4,
   "metadata": {},
   "outputs": [
    {
     "name": "stdout",
     "output_type": "stream",
     "text": [
      "0\n",
      "1\n",
      "1\n",
      "2\n",
      "3\n",
      "5\n",
      "8\n",
      "13\n",
      "21\n",
      "34\n"
     ]
    }
   ],
   "source": [
    "for i in test_fib(10):\n",
    "    print(i)\n"
   ]
  },
  {
   "attachments": {},
   "cell_type": "markdown",
   "metadata": {},
   "source": [
    "5.Create a generator function for prime number less than 1000.Use the next() method to print the first 20 prime number."
   ]
  },
  {
   "cell_type": "code",
   "execution_count": 109,
   "metadata": {},
   "outputs": [
    {
     "name": "stdout",
     "output_type": "stream",
     "text": [
      "167\n",
      "173\n",
      "179\n",
      "181\n",
      "191\n",
      "193\n",
      "197\n",
      "199\n",
      "211\n",
      "223\n",
      "227\n",
      "229\n",
      "233\n",
      "239\n",
      "241\n",
      "251\n",
      "257\n",
      "263\n",
      "269\n",
      "271\n"
     ]
    }
   ],
   "source": [
    "def prime(n):\n",
    "  if n<2:\n",
    "      return False\n",
    "  for i in range(2,int(n ** 0.5) + 1):\n",
    "      if n%i==0:\n",
    "        return False\n",
    "  return True\n",
    "a=0\n",
    "b=2\n",
    "while a<20:\n",
    "  if prime(n):\n",
    "    print(n,end='\\n')\n",
    "    a+=1\n",
    "  n+=1            "
   ]
  },
  {
   "attachments": {},
   "cell_type": "markdown",
   "metadata": {},
   "source": [
    "6.Write a python program to print the first 10 fibonacci numbers using a While loop."
   ]
  },
  {
   "cell_type": "code",
   "execution_count": 91,
   "metadata": {},
   "outputs": [
    {
     "name": "stdout",
     "output_type": "stream",
     "text": [
      "0\n",
      "1\n",
      "1\n",
      "2\n",
      "3\n",
      "5\n",
      "8\n",
      "13\n",
      "21\n",
      "34\n"
     ]
    }
   ],
   "source": [
    "i=0\n",
    "j=1\n",
    "a=0\n",
    "while a<=9:\n",
    "    print(i)\n",
    "    k=i+j\n",
    "    i=j\n",
    "    j=k\n",
    "    a=a+1"
   ]
  },
  {
   "attachments": {},
   "cell_type": "markdown",
   "metadata": {},
   "source": [
    "7.write a list comprehension to iterate throug the given string:'pwskills'.Expected output:['p','w','s','k','i','l','l','s']"
   ]
  },
  {
   "cell_type": "code",
   "execution_count": 76,
   "metadata": {},
   "outputs": [
    {
     "data": {
      "text/plain": [
       "['p', 'w', 's', 'k', 'i', 'l', 'l', 's']"
      ]
     },
     "execution_count": 76,
     "metadata": {},
     "output_type": "execute_result"
    }
   ],
   "source": [
    "l='pwskills'\n",
    "[ i for i in  l ]"
   ]
  },
  {
   "attachments": {},
   "cell_type": "markdown",
   "metadata": {},
   "source": [
    "8.Write a python program to chek whether a given number is palindrome or not using a While loop."
   ]
  },
  {
   "cell_type": "code",
   "execution_count": 49,
   "metadata": {},
   "outputs": [
    {
     "name": "stdout",
     "output_type": "stream",
     "text": [
      "32 not a palendrome\n"
     ]
    }
   ],
   "source": [
    "def p(n):\n",
    "    n1=n\n",
    "    n2=0\n",
    "    while n>0:\n",
    "         r=n%10\n",
    "         n2=(n2*10)+r\n",
    "         n=n // 10\n",
    "    if n1==n2:\n",
    "        return True\n",
    "    else:\n",
    "        return False\n",
    "n=int(input(\"enter a number\"))\n",
    "if p(n):\n",
    "    print(n,\"is a palendrome\")\n",
    "else:\n",
    "    print(n,\"not a palendrome\")            "
   ]
  },
  {
   "attachments": {},
   "cell_type": "markdown",
   "metadata": {},
   "source": [
    "9.Write a code to print odd numbers from 1 to 100 using list comprehension.\n",
    "Note:-Use a list comprehension to create a list frome 1 to 100 and use anoter list comprehension to filter out odd numbers."
   ]
  },
  {
   "cell_type": "code",
   "execution_count": 44,
   "metadata": {},
   "outputs": [
    {
     "name": "stdout",
     "output_type": "stream",
     "text": [
      "[1, 2, 3, 4, 5, 6, 7, 8, 9, 10, 11, 12, 13, 14, 15, 16, 17, 18, 19, 20, 21, 22, 23, 24, 25, 26, 27, 28, 29, 30, 31, 32, 33, 34, 35, 36, 37, 38, 39, 40, 41, 42, 43, 44, 45, 46, 47, 48, 49, 50, 51, 52, 53, 54, 55, 56, 57, 58, 59, 60, 61, 62, 63, 64, 65, 66, 67, 68, 69, 70, 71, 72, 73, 74, 75, 76, 77, 78, 79, 80, 81, 82, 83, 84, 85, 86, 87, 88, 89, 90, 91, 92, 93, 94, 95, 96, 97, 98, 99, 100]\n"
     ]
    }
   ],
   "source": [
    "l=[]\n",
    "for i in range(1,101):\n",
    "    l.append(i)\n",
    "print(l)    \n",
    "    \n"
   ]
  },
  {
   "cell_type": "code",
   "execution_count": null,
   "metadata": {},
   "outputs": [],
   "source": []
  },
  {
   "cell_type": "code",
   "execution_count": 46,
   "metadata": {},
   "outputs": [
    {
     "name": "stdout",
     "output_type": "stream",
     "text": [
      "[1, 3, 5, 7, 9, 11, 13, 15, 17, 19, 21, 23, 25, 27, 29, 31, 33, 35, 37, 39, 41, 43, 45, 47, 49, 51, 53, 55, 57, 59, 61, 63, 65, 67, 69, 71, 73, 75, 77, 79, 81, 83, 85, 87, 89, 91, 93, 95, 97, 99]\n"
     ]
    }
   ],
   "source": [
    "l2=[i for i in l if i % 2==1]      \n",
    "print(l2)"
   ]
  }
 ],
 "metadata": {
  "kernelspec": {
   "display_name": "Python 3",
   "language": "python",
   "name": "python3"
  },
  "language_info": {
   "codemirror_mode": {
    "name": "ipython",
    "version": 3
   },
   "file_extension": ".py",
   "mimetype": "text/x-python",
   "name": "python",
   "nbconvert_exporter": "python",
   "pygments_lexer": "ipython3",
   "version": "3.11.1"
  },
  "orig_nbformat": 4
 },
 "nbformat": 4,
 "nbformat_minor": 2
}
